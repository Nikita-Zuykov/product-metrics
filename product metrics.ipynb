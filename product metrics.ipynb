{
 "cells": [
  {
   "cell_type": "code",
   "execution_count": 1,
   "id": "b622af1c",
   "metadata": {},
   "outputs": [],
   "source": [
    "import pandas as pd\n",
    "import numpy as np\n",
    "import matplotlib.pyplot as plt\n",
    "plt.style.use('ggplot')\n",
    "df = pd.read_csv('/python.jup/electronics_store/kz.csv')"
   ]
  },
  {
   "cell_type": "code",
   "execution_count": 2,
   "id": "6abc60ff",
   "metadata": {},
   "outputs": [
    {
     "data": {
      "text/html": [
       "<div>\n",
       "<style scoped>\n",
       "    .dataframe tbody tr th:only-of-type {\n",
       "        vertical-align: middle;\n",
       "    }\n",
       "\n",
       "    .dataframe tbody tr th {\n",
       "        vertical-align: top;\n",
       "    }\n",
       "\n",
       "    .dataframe thead th {\n",
       "        text-align: right;\n",
       "    }\n",
       "</style>\n",
       "<table border=\"1\" class=\"dataframe\">\n",
       "  <thead>\n",
       "    <tr style=\"text-align: right;\">\n",
       "      <th></th>\n",
       "      <th>event_time</th>\n",
       "      <th>order_id</th>\n",
       "      <th>product_id</th>\n",
       "      <th>category_id</th>\n",
       "      <th>category_code</th>\n",
       "      <th>brand</th>\n",
       "      <th>price</th>\n",
       "      <th>user_id</th>\n",
       "    </tr>\n",
       "  </thead>\n",
       "  <tbody>\n",
       "    <tr>\n",
       "      <th>0</th>\n",
       "      <td>2020-04-24 11:50:39 UTC</td>\n",
       "      <td>2294359932054536986</td>\n",
       "      <td>1515966223509089906</td>\n",
       "      <td>2.268105e+18</td>\n",
       "      <td>electronics.tablet</td>\n",
       "      <td>samsung</td>\n",
       "      <td>162.01</td>\n",
       "      <td>1.515916e+18</td>\n",
       "    </tr>\n",
       "    <tr>\n",
       "      <th>1</th>\n",
       "      <td>2020-04-24 11:50:39 UTC</td>\n",
       "      <td>2294359932054536986</td>\n",
       "      <td>1515966223509089906</td>\n",
       "      <td>2.268105e+18</td>\n",
       "      <td>electronics.tablet</td>\n",
       "      <td>samsung</td>\n",
       "      <td>162.01</td>\n",
       "      <td>1.515916e+18</td>\n",
       "    </tr>\n",
       "    <tr>\n",
       "      <th>2</th>\n",
       "      <td>2020-04-24 14:37:43 UTC</td>\n",
       "      <td>2294444024058086220</td>\n",
       "      <td>2273948319057183658</td>\n",
       "      <td>2.268105e+18</td>\n",
       "      <td>electronics.audio.headphone</td>\n",
       "      <td>huawei</td>\n",
       "      <td>77.52</td>\n",
       "      <td>1.515916e+18</td>\n",
       "    </tr>\n",
       "    <tr>\n",
       "      <th>3</th>\n",
       "      <td>2020-04-24 14:37:43 UTC</td>\n",
       "      <td>2294444024058086220</td>\n",
       "      <td>2273948319057183658</td>\n",
       "      <td>2.268105e+18</td>\n",
       "      <td>electronics.audio.headphone</td>\n",
       "      <td>huawei</td>\n",
       "      <td>77.52</td>\n",
       "      <td>1.515916e+18</td>\n",
       "    </tr>\n",
       "    <tr>\n",
       "      <th>4</th>\n",
       "      <td>2020-04-24 19:16:21 UTC</td>\n",
       "      <td>2294584263154074236</td>\n",
       "      <td>2273948316817424439</td>\n",
       "      <td>2.268105e+18</td>\n",
       "      <td>NaN</td>\n",
       "      <td>karcher</td>\n",
       "      <td>217.57</td>\n",
       "      <td>1.515916e+18</td>\n",
       "    </tr>\n",
       "  </tbody>\n",
       "</table>\n",
       "</div>"
      ],
      "text/plain": [
       "                event_time             order_id           product_id  \\\n",
       "0  2020-04-24 11:50:39 UTC  2294359932054536986  1515966223509089906   \n",
       "1  2020-04-24 11:50:39 UTC  2294359932054536986  1515966223509089906   \n",
       "2  2020-04-24 14:37:43 UTC  2294444024058086220  2273948319057183658   \n",
       "3  2020-04-24 14:37:43 UTC  2294444024058086220  2273948319057183658   \n",
       "4  2020-04-24 19:16:21 UTC  2294584263154074236  2273948316817424439   \n",
       "\n",
       "    category_id                category_code    brand   price       user_id  \n",
       "0  2.268105e+18           electronics.tablet  samsung  162.01  1.515916e+18  \n",
       "1  2.268105e+18           electronics.tablet  samsung  162.01  1.515916e+18  \n",
       "2  2.268105e+18  electronics.audio.headphone   huawei   77.52  1.515916e+18  \n",
       "3  2.268105e+18  electronics.audio.headphone   huawei   77.52  1.515916e+18  \n",
       "4  2.268105e+18                          NaN  karcher  217.57  1.515916e+18  "
      ]
     },
     "execution_count": 2,
     "metadata": {},
     "output_type": "execute_result"
    }
   ],
   "source": [
    "df.head()"
   ]
  },
  {
   "cell_type": "code",
   "execution_count": 3,
   "id": "1689c193",
   "metadata": {},
   "outputs": [],
   "source": [
    "df=df[:50000]"
   ]
  },
  {
   "cell_type": "code",
   "execution_count": 4,
   "id": "5b3d8592",
   "metadata": {},
   "outputs": [
    {
     "data": {
      "text/plain": [
       "(50000, 8)"
      ]
     },
     "execution_count": 4,
     "metadata": {},
     "output_type": "execute_result"
    }
   ],
   "source": [
    "df.shape"
   ]
  },
  {
   "cell_type": "code",
   "execution_count": 5,
   "id": "285a57ab",
   "metadata": {},
   "outputs": [
    {
     "data": {
      "text/plain": [
       "event_time        object\n",
       "order_id           int64\n",
       "product_id         int64\n",
       "category_id      float64\n",
       "category_code     object\n",
       "brand             object\n",
       "price            float64\n",
       "user_id          float64\n",
       "dtype: object"
      ]
     },
     "execution_count": 5,
     "metadata": {},
     "output_type": "execute_result"
    }
   ],
   "source": [
    "df.dtypes"
   ]
  },
  {
   "cell_type": "code",
   "execution_count": 6,
   "id": "d5868e41",
   "metadata": {},
   "outputs": [],
   "source": [
    "df=df.query(\"event_time != '1970-01-01 00:33:40 UTC'\")"
   ]
  },
  {
   "cell_type": "code",
   "execution_count": 7,
   "id": "4bfaa07f",
   "metadata": {
    "scrolled": true
   },
   "outputs": [
    {
     "data": {
      "text/html": [
       "<div>\n",
       "<style scoped>\n",
       "    .dataframe tbody tr th:only-of-type {\n",
       "        vertical-align: middle;\n",
       "    }\n",
       "\n",
       "    .dataframe tbody tr th {\n",
       "        vertical-align: top;\n",
       "    }\n",
       "\n",
       "    .dataframe thead th {\n",
       "        text-align: right;\n",
       "    }\n",
       "</style>\n",
       "<table border=\"1\" class=\"dataframe\">\n",
       "  <thead>\n",
       "    <tr style=\"text-align: right;\">\n",
       "      <th></th>\n",
       "      <th>event_time</th>\n",
       "      <th>order_id</th>\n",
       "      <th>product_id</th>\n",
       "      <th>category_id</th>\n",
       "      <th>category_code</th>\n",
       "      <th>brand</th>\n",
       "      <th>price</th>\n",
       "      <th>user_id</th>\n",
       "    </tr>\n",
       "  </thead>\n",
       "  <tbody>\n",
       "    <tr>\n",
       "      <th>0</th>\n",
       "      <td>2020-04-24 11:50:39 UTC</td>\n",
       "      <td>2294359932054536986</td>\n",
       "      <td>1515966223509089906</td>\n",
       "      <td>2.268105e+18</td>\n",
       "      <td>electronics.tablet</td>\n",
       "      <td>samsung</td>\n",
       "      <td>162.01</td>\n",
       "      <td>1.515916e+18</td>\n",
       "    </tr>\n",
       "    <tr>\n",
       "      <th>1</th>\n",
       "      <td>2020-04-24 11:50:39 UTC</td>\n",
       "      <td>2294359932054536986</td>\n",
       "      <td>1515966223509089906</td>\n",
       "      <td>2.268105e+18</td>\n",
       "      <td>electronics.tablet</td>\n",
       "      <td>samsung</td>\n",
       "      <td>162.01</td>\n",
       "      <td>1.515916e+18</td>\n",
       "    </tr>\n",
       "    <tr>\n",
       "      <th>2</th>\n",
       "      <td>2020-04-24 14:37:43 UTC</td>\n",
       "      <td>2294444024058086220</td>\n",
       "      <td>2273948319057183658</td>\n",
       "      <td>2.268105e+18</td>\n",
       "      <td>electronics.audio.headphone</td>\n",
       "      <td>huawei</td>\n",
       "      <td>77.52</td>\n",
       "      <td>1.515916e+18</td>\n",
       "    </tr>\n",
       "    <tr>\n",
       "      <th>3</th>\n",
       "      <td>2020-04-24 14:37:43 UTC</td>\n",
       "      <td>2294444024058086220</td>\n",
       "      <td>2273948319057183658</td>\n",
       "      <td>2.268105e+18</td>\n",
       "      <td>electronics.audio.headphone</td>\n",
       "      <td>huawei</td>\n",
       "      <td>77.52</td>\n",
       "      <td>1.515916e+18</td>\n",
       "    </tr>\n",
       "    <tr>\n",
       "      <th>4</th>\n",
       "      <td>2020-04-24 19:16:21 UTC</td>\n",
       "      <td>2294584263154074236</td>\n",
       "      <td>2273948316817424439</td>\n",
       "      <td>2.268105e+18</td>\n",
       "      <td>NaN</td>\n",
       "      <td>karcher</td>\n",
       "      <td>217.57</td>\n",
       "      <td>1.515916e+18</td>\n",
       "    </tr>\n",
       "    <tr>\n",
       "      <th>...</th>\n",
       "      <td>...</td>\n",
       "      <td>...</td>\n",
       "      <td>...</td>\n",
       "      <td>...</td>\n",
       "      <td>...</td>\n",
       "      <td>...</td>\n",
       "      <td>...</td>\n",
       "      <td>...</td>\n",
       "    </tr>\n",
       "    <tr>\n",
       "      <th>41475</th>\n",
       "      <td>2020-07-08 05:37:21 UTC</td>\n",
       "      <td>2348530228843774916</td>\n",
       "      <td>1515966223509105061</td>\n",
       "      <td>2.268105e+18</td>\n",
       "      <td>NaN</td>\n",
       "      <td>delonghi</td>\n",
       "      <td>74.75</td>\n",
       "      <td>1.515916e+18</td>\n",
       "    </tr>\n",
       "    <tr>\n",
       "      <th>41476</th>\n",
       "      <td>2020-07-08 05:37:22 UTC</td>\n",
       "      <td>2348530232148886470</td>\n",
       "      <td>1515966223509090236</td>\n",
       "      <td>2.268105e+18</td>\n",
       "      <td>appliances.iron</td>\n",
       "      <td>maxwell</td>\n",
       "      <td>18.50</td>\n",
       "      <td>1.515916e+18</td>\n",
       "    </tr>\n",
       "    <tr>\n",
       "      <th>41477</th>\n",
       "      <td>2020-07-08 05:37:36 UTC</td>\n",
       "      <td>2348530351342617562</td>\n",
       "      <td>1515966223509088663</td>\n",
       "      <td>2.268105e+18</td>\n",
       "      <td>computers.network.router</td>\n",
       "      <td>tp-link</td>\n",
       "      <td>10.86</td>\n",
       "      <td>1.515916e+18</td>\n",
       "    </tr>\n",
       "    <tr>\n",
       "      <th>46715</th>\n",
       "      <td>2020-07-08 05:41:20 UTC</td>\n",
       "      <td>2348532229510005162</td>\n",
       "      <td>1515966223509257776</td>\n",
       "      <td>2.268105e+18</td>\n",
       "      <td>electronics.tablet</td>\n",
       "      <td>huion</td>\n",
       "      <td>85.63</td>\n",
       "      <td>1.515916e+18</td>\n",
       "    </tr>\n",
       "    <tr>\n",
       "      <th>46827</th>\n",
       "      <td>2020-07-08 05:41:22 UTC</td>\n",
       "      <td>2348532250229866969</td>\n",
       "      <td>1515966223509267335</td>\n",
       "      <td>2.268105e+18</td>\n",
       "      <td>NaN</td>\n",
       "      <td>braun</td>\n",
       "      <td>46.27</td>\n",
       "      <td>1.515916e+18</td>\n",
       "    </tr>\n",
       "  </tbody>\n",
       "</table>\n",
       "<p>36317 rows × 8 columns</p>\n",
       "</div>"
      ],
      "text/plain": [
       "                    event_time             order_id           product_id  \\\n",
       "0      2020-04-24 11:50:39 UTC  2294359932054536986  1515966223509089906   \n",
       "1      2020-04-24 11:50:39 UTC  2294359932054536986  1515966223509089906   \n",
       "2      2020-04-24 14:37:43 UTC  2294444024058086220  2273948319057183658   \n",
       "3      2020-04-24 14:37:43 UTC  2294444024058086220  2273948319057183658   \n",
       "4      2020-04-24 19:16:21 UTC  2294584263154074236  2273948316817424439   \n",
       "...                        ...                  ...                  ...   \n",
       "41475  2020-07-08 05:37:21 UTC  2348530228843774916  1515966223509105061   \n",
       "41476  2020-07-08 05:37:22 UTC  2348530232148886470  1515966223509090236   \n",
       "41477  2020-07-08 05:37:36 UTC  2348530351342617562  1515966223509088663   \n",
       "46715  2020-07-08 05:41:20 UTC  2348532229510005162  1515966223509257776   \n",
       "46827  2020-07-08 05:41:22 UTC  2348532250229866969  1515966223509267335   \n",
       "\n",
       "        category_id                category_code     brand   price  \\\n",
       "0      2.268105e+18           electronics.tablet   samsung  162.01   \n",
       "1      2.268105e+18           electronics.tablet   samsung  162.01   \n",
       "2      2.268105e+18  electronics.audio.headphone    huawei   77.52   \n",
       "3      2.268105e+18  electronics.audio.headphone    huawei   77.52   \n",
       "4      2.268105e+18                          NaN   karcher  217.57   \n",
       "...             ...                          ...       ...     ...   \n",
       "41475  2.268105e+18                          NaN  delonghi   74.75   \n",
       "41476  2.268105e+18              appliances.iron   maxwell   18.50   \n",
       "41477  2.268105e+18     computers.network.router   tp-link   10.86   \n",
       "46715  2.268105e+18           electronics.tablet     huion   85.63   \n",
       "46827  2.268105e+18                          NaN     braun   46.27   \n",
       "\n",
       "            user_id  \n",
       "0      1.515916e+18  \n",
       "1      1.515916e+18  \n",
       "2      1.515916e+18  \n",
       "3      1.515916e+18  \n",
       "4      1.515916e+18  \n",
       "...             ...  \n",
       "41475  1.515916e+18  \n",
       "41476  1.515916e+18  \n",
       "41477  1.515916e+18  \n",
       "46715  1.515916e+18  \n",
       "46827  1.515916e+18  \n",
       "\n",
       "[36317 rows x 8 columns]"
      ]
     },
     "execution_count": 7,
     "metadata": {},
     "output_type": "execute_result"
    }
   ],
   "source": [
    "df"
   ]
  },
  {
   "cell_type": "code",
   "execution_count": 8,
   "id": "3a20fb02",
   "metadata": {},
   "outputs": [],
   "source": [
    "df['Timestamp'] = pd.to_datetime(df.event_time)"
   ]
  },
  {
   "cell_type": "code",
   "execution_count": 9,
   "id": "f2711d23",
   "metadata": {
    "scrolled": true
   },
   "outputs": [
    {
     "data": {
      "text/plain": [
       "event_time                    object\n",
       "order_id                       int64\n",
       "product_id                     int64\n",
       "category_id                  float64\n",
       "category_code                 object\n",
       "brand                         object\n",
       "price                        float64\n",
       "user_id                      float64\n",
       "Timestamp        datetime64[ns, UTC]\n",
       "dtype: object"
      ]
     },
     "execution_count": 9,
     "metadata": {},
     "output_type": "execute_result"
    }
   ],
   "source": [
    "df.dtypes"
   ]
  },
  {
   "cell_type": "code",
   "execution_count": 10,
   "id": "2b539454",
   "metadata": {},
   "outputs": [],
   "source": [
    "df = df[['user_id', 'Timestamp', 'order_id', 'category_code', 'brand', 'price']]"
   ]
  },
  {
   "cell_type": "code",
   "execution_count": 11,
   "id": "a06515bc",
   "metadata": {},
   "outputs": [
    {
     "data": {
      "text/html": [
       "<div>\n",
       "<style scoped>\n",
       "    .dataframe tbody tr th:only-of-type {\n",
       "        vertical-align: middle;\n",
       "    }\n",
       "\n",
       "    .dataframe tbody tr th {\n",
       "        vertical-align: top;\n",
       "    }\n",
       "\n",
       "    .dataframe thead th {\n",
       "        text-align: right;\n",
       "    }\n",
       "</style>\n",
       "<table border=\"1\" class=\"dataframe\">\n",
       "  <thead>\n",
       "    <tr style=\"text-align: right;\">\n",
       "      <th></th>\n",
       "      <th>user_id</th>\n",
       "      <th>Timestamp</th>\n",
       "      <th>order_id</th>\n",
       "      <th>category_code</th>\n",
       "      <th>brand</th>\n",
       "      <th>price</th>\n",
       "    </tr>\n",
       "  </thead>\n",
       "  <tbody>\n",
       "    <tr>\n",
       "      <th>0</th>\n",
       "      <td>1.515916e+18</td>\n",
       "      <td>2020-04-24 11:50:39+00:00</td>\n",
       "      <td>2294359932054536986</td>\n",
       "      <td>electronics.tablet</td>\n",
       "      <td>samsung</td>\n",
       "      <td>162.01</td>\n",
       "    </tr>\n",
       "    <tr>\n",
       "      <th>1</th>\n",
       "      <td>1.515916e+18</td>\n",
       "      <td>2020-04-24 11:50:39+00:00</td>\n",
       "      <td>2294359932054536986</td>\n",
       "      <td>electronics.tablet</td>\n",
       "      <td>samsung</td>\n",
       "      <td>162.01</td>\n",
       "    </tr>\n",
       "    <tr>\n",
       "      <th>2</th>\n",
       "      <td>1.515916e+18</td>\n",
       "      <td>2020-04-24 14:37:43+00:00</td>\n",
       "      <td>2294444024058086220</td>\n",
       "      <td>electronics.audio.headphone</td>\n",
       "      <td>huawei</td>\n",
       "      <td>77.52</td>\n",
       "    </tr>\n",
       "    <tr>\n",
       "      <th>3</th>\n",
       "      <td>1.515916e+18</td>\n",
       "      <td>2020-04-24 14:37:43+00:00</td>\n",
       "      <td>2294444024058086220</td>\n",
       "      <td>electronics.audio.headphone</td>\n",
       "      <td>huawei</td>\n",
       "      <td>77.52</td>\n",
       "    </tr>\n",
       "    <tr>\n",
       "      <th>4</th>\n",
       "      <td>1.515916e+18</td>\n",
       "      <td>2020-04-24 19:16:21+00:00</td>\n",
       "      <td>2294584263154074236</td>\n",
       "      <td>NaN</td>\n",
       "      <td>karcher</td>\n",
       "      <td>217.57</td>\n",
       "    </tr>\n",
       "    <tr>\n",
       "      <th>...</th>\n",
       "      <td>...</td>\n",
       "      <td>...</td>\n",
       "      <td>...</td>\n",
       "      <td>...</td>\n",
       "      <td>...</td>\n",
       "      <td>...</td>\n",
       "    </tr>\n",
       "    <tr>\n",
       "      <th>41475</th>\n",
       "      <td>1.515916e+18</td>\n",
       "      <td>2020-07-08 05:37:21+00:00</td>\n",
       "      <td>2348530228843774916</td>\n",
       "      <td>NaN</td>\n",
       "      <td>delonghi</td>\n",
       "      <td>74.75</td>\n",
       "    </tr>\n",
       "    <tr>\n",
       "      <th>41476</th>\n",
       "      <td>1.515916e+18</td>\n",
       "      <td>2020-07-08 05:37:22+00:00</td>\n",
       "      <td>2348530232148886470</td>\n",
       "      <td>appliances.iron</td>\n",
       "      <td>maxwell</td>\n",
       "      <td>18.50</td>\n",
       "    </tr>\n",
       "    <tr>\n",
       "      <th>41477</th>\n",
       "      <td>1.515916e+18</td>\n",
       "      <td>2020-07-08 05:37:36+00:00</td>\n",
       "      <td>2348530351342617562</td>\n",
       "      <td>computers.network.router</td>\n",
       "      <td>tp-link</td>\n",
       "      <td>10.86</td>\n",
       "    </tr>\n",
       "    <tr>\n",
       "      <th>46715</th>\n",
       "      <td>1.515916e+18</td>\n",
       "      <td>2020-07-08 05:41:20+00:00</td>\n",
       "      <td>2348532229510005162</td>\n",
       "      <td>electronics.tablet</td>\n",
       "      <td>huion</td>\n",
       "      <td>85.63</td>\n",
       "    </tr>\n",
       "    <tr>\n",
       "      <th>46827</th>\n",
       "      <td>1.515916e+18</td>\n",
       "      <td>2020-07-08 05:41:22+00:00</td>\n",
       "      <td>2348532250229866969</td>\n",
       "      <td>NaN</td>\n",
       "      <td>braun</td>\n",
       "      <td>46.27</td>\n",
       "    </tr>\n",
       "  </tbody>\n",
       "</table>\n",
       "<p>36317 rows × 6 columns</p>\n",
       "</div>"
      ],
      "text/plain": [
       "            user_id                 Timestamp             order_id  \\\n",
       "0      1.515916e+18 2020-04-24 11:50:39+00:00  2294359932054536986   \n",
       "1      1.515916e+18 2020-04-24 11:50:39+00:00  2294359932054536986   \n",
       "2      1.515916e+18 2020-04-24 14:37:43+00:00  2294444024058086220   \n",
       "3      1.515916e+18 2020-04-24 14:37:43+00:00  2294444024058086220   \n",
       "4      1.515916e+18 2020-04-24 19:16:21+00:00  2294584263154074236   \n",
       "...             ...                       ...                  ...   \n",
       "41475  1.515916e+18 2020-07-08 05:37:21+00:00  2348530228843774916   \n",
       "41476  1.515916e+18 2020-07-08 05:37:22+00:00  2348530232148886470   \n",
       "41477  1.515916e+18 2020-07-08 05:37:36+00:00  2348530351342617562   \n",
       "46715  1.515916e+18 2020-07-08 05:41:20+00:00  2348532229510005162   \n",
       "46827  1.515916e+18 2020-07-08 05:41:22+00:00  2348532250229866969   \n",
       "\n",
       "                     category_code     brand   price  \n",
       "0               electronics.tablet   samsung  162.01  \n",
       "1               electronics.tablet   samsung  162.01  \n",
       "2      electronics.audio.headphone    huawei   77.52  \n",
       "3      electronics.audio.headphone    huawei   77.52  \n",
       "4                              NaN   karcher  217.57  \n",
       "...                            ...       ...     ...  \n",
       "41475                          NaN  delonghi   74.75  \n",
       "41476              appliances.iron   maxwell   18.50  \n",
       "41477     computers.network.router   tp-link   10.86  \n",
       "46715           electronics.tablet     huion   85.63  \n",
       "46827                          NaN     braun   46.27  \n",
       "\n",
       "[36317 rows x 6 columns]"
      ]
     },
     "execution_count": 11,
     "metadata": {},
     "output_type": "execute_result"
    }
   ],
   "source": [
    "df"
   ]
  },
  {
   "cell_type": "code",
   "execution_count": 12,
   "id": "957a3228",
   "metadata": {},
   "outputs": [
    {
     "data": {
      "text/plain": [
       "user_id                      float64\n",
       "Timestamp        datetime64[ns, UTC]\n",
       "order_id                       int64\n",
       "category_code                 object\n",
       "brand                         object\n",
       "price                        float64\n",
       "dtype: object"
      ]
     },
     "execution_count": 12,
     "metadata": {},
     "output_type": "execute_result"
    }
   ],
   "source": [
    "df.dtypes"
   ]
  },
  {
   "cell_type": "code",
   "execution_count": 13,
   "id": "61803fff",
   "metadata": {},
   "outputs": [
    {
     "data": {
      "text/html": [
       "<div>\n",
       "<style scoped>\n",
       "    .dataframe tbody tr th:only-of-type {\n",
       "        vertical-align: middle;\n",
       "    }\n",
       "\n",
       "    .dataframe tbody tr th {\n",
       "        vertical-align: top;\n",
       "    }\n",
       "\n",
       "    .dataframe thead th {\n",
       "        text-align: right;\n",
       "    }\n",
       "</style>\n",
       "<table border=\"1\" class=\"dataframe\">\n",
       "  <thead>\n",
       "    <tr style=\"text-align: right;\">\n",
       "      <th></th>\n",
       "      <th>user_id</th>\n",
       "      <th>Timestamp</th>\n",
       "      <th>order_id</th>\n",
       "      <th>category_code</th>\n",
       "      <th>brand</th>\n",
       "      <th>price</th>\n",
       "    </tr>\n",
       "  </thead>\n",
       "  <tbody>\n",
       "    <tr>\n",
       "      <th>0</th>\n",
       "      <td>1.515916e+18</td>\n",
       "      <td>2020-04-24 11:50:39+00:00</td>\n",
       "      <td>2294359932054536986</td>\n",
       "      <td>electronics.tablet</td>\n",
       "      <td>samsung</td>\n",
       "      <td>162.01</td>\n",
       "    </tr>\n",
       "    <tr>\n",
       "      <th>1</th>\n",
       "      <td>1.515916e+18</td>\n",
       "      <td>2020-04-24 11:50:39+00:00</td>\n",
       "      <td>2294359932054536986</td>\n",
       "      <td>electronics.tablet</td>\n",
       "      <td>samsung</td>\n",
       "      <td>162.01</td>\n",
       "    </tr>\n",
       "    <tr>\n",
       "      <th>2</th>\n",
       "      <td>1.515916e+18</td>\n",
       "      <td>2020-04-24 14:37:43+00:00</td>\n",
       "      <td>2294444024058086220</td>\n",
       "      <td>electronics.audio.headphone</td>\n",
       "      <td>huawei</td>\n",
       "      <td>77.52</td>\n",
       "    </tr>\n",
       "    <tr>\n",
       "      <th>3</th>\n",
       "      <td>1.515916e+18</td>\n",
       "      <td>2020-04-24 14:37:43+00:00</td>\n",
       "      <td>2294444024058086220</td>\n",
       "      <td>electronics.audio.headphone</td>\n",
       "      <td>huawei</td>\n",
       "      <td>77.52</td>\n",
       "    </tr>\n",
       "    <tr>\n",
       "      <th>4</th>\n",
       "      <td>1.515916e+18</td>\n",
       "      <td>2020-04-24 19:16:21+00:00</td>\n",
       "      <td>2294584263154074236</td>\n",
       "      <td>NaN</td>\n",
       "      <td>karcher</td>\n",
       "      <td>217.57</td>\n",
       "    </tr>\n",
       "  </tbody>\n",
       "</table>\n",
       "</div>"
      ],
      "text/plain": [
       "        user_id                 Timestamp             order_id  \\\n",
       "0  1.515916e+18 2020-04-24 11:50:39+00:00  2294359932054536986   \n",
       "1  1.515916e+18 2020-04-24 11:50:39+00:00  2294359932054536986   \n",
       "2  1.515916e+18 2020-04-24 14:37:43+00:00  2294444024058086220   \n",
       "3  1.515916e+18 2020-04-24 14:37:43+00:00  2294444024058086220   \n",
       "4  1.515916e+18 2020-04-24 19:16:21+00:00  2294584263154074236   \n",
       "\n",
       "                 category_code    brand   price  \n",
       "0           electronics.tablet  samsung  162.01  \n",
       "1           electronics.tablet  samsung  162.01  \n",
       "2  electronics.audio.headphone   huawei   77.52  \n",
       "3  electronics.audio.headphone   huawei   77.52  \n",
       "4                          NaN  karcher  217.57  "
      ]
     },
     "execution_count": 13,
     "metadata": {},
     "output_type": "execute_result"
    }
   ],
   "source": [
    "df.head()"
   ]
  },
  {
   "cell_type": "code",
   "execution_count": 16,
   "id": "c3cefa20",
   "metadata": {},
   "outputs": [
    {
     "name": "stderr",
     "output_type": "stream",
     "text": [
      "C:\\Users\\Anna\\AppData\\Local\\Temp\\ipykernel_11796\\1072508842.py:1: SettingWithCopyWarning: \n",
      "A value is trying to be set on a copy of a slice from a DataFrame.\n",
      "Try using .loc[row_indexer,col_indexer] = value instead\n",
      "\n",
      "See the caveats in the documentation: https://pandas.pydata.org/pandas-docs/stable/user_guide/indexing.html#returning-a-view-versus-a-copy\n",
      "  df['Timestamp'] = pd.to_datetime(df['Timestamp']). dt.date\n"
     ]
    }
   ],
   "source": [
    "df['Timestamp'] = pd.to_datetime(df['Timestamp']). dt.date"
   ]
  },
  {
   "cell_type": "code",
   "execution_count": 17,
   "id": "98997ae9",
   "metadata": {},
   "outputs": [],
   "source": [
    "df_1 = df.groupby('Timestamp'). agg({'user_id' : 'nunique'})"
   ]
  },
  {
   "cell_type": "code",
   "execution_count": 18,
   "id": "2601c137",
   "metadata": {},
   "outputs": [
    {
     "data": {
      "text/html": [
       "<div>\n",
       "<style scoped>\n",
       "    .dataframe tbody tr th:only-of-type {\n",
       "        vertical-align: middle;\n",
       "    }\n",
       "\n",
       "    .dataframe tbody tr th {\n",
       "        vertical-align: top;\n",
       "    }\n",
       "\n",
       "    .dataframe thead th {\n",
       "        text-align: right;\n",
       "    }\n",
       "</style>\n",
       "<table border=\"1\" class=\"dataframe\">\n",
       "  <thead>\n",
       "    <tr style=\"text-align: right;\">\n",
       "      <th></th>\n",
       "      <th>user_id</th>\n",
       "    </tr>\n",
       "    <tr>\n",
       "      <th>Timestamp</th>\n",
       "      <th></th>\n",
       "    </tr>\n",
       "  </thead>\n",
       "  <tbody>\n",
       "    <tr>\n",
       "      <th>2020-04-24</th>\n",
       "      <td>3</td>\n",
       "    </tr>\n",
       "    <tr>\n",
       "      <th>2020-04-26</th>\n",
       "      <td>4</td>\n",
       "    </tr>\n",
       "    <tr>\n",
       "      <th>2020-04-27</th>\n",
       "      <td>2</td>\n",
       "    </tr>\n",
       "    <tr>\n",
       "      <th>2020-04-28</th>\n",
       "      <td>5</td>\n",
       "    </tr>\n",
       "    <tr>\n",
       "      <th>2020-04-29</th>\n",
       "      <td>184</td>\n",
       "    </tr>\n",
       "    <tr>\n",
       "      <th>...</th>\n",
       "      <td>...</td>\n",
       "    </tr>\n",
       "    <tr>\n",
       "      <th>2020-07-04</th>\n",
       "      <td>444</td>\n",
       "    </tr>\n",
       "    <tr>\n",
       "      <th>2020-07-05</th>\n",
       "      <td>567</td>\n",
       "    </tr>\n",
       "    <tr>\n",
       "      <th>2020-07-06</th>\n",
       "      <td>705</td>\n",
       "    </tr>\n",
       "    <tr>\n",
       "      <th>2020-07-07</th>\n",
       "      <td>860</td>\n",
       "    </tr>\n",
       "    <tr>\n",
       "      <th>2020-07-08</th>\n",
       "      <td>151</td>\n",
       "    </tr>\n",
       "  </tbody>\n",
       "</table>\n",
       "<p>75 rows × 1 columns</p>\n",
       "</div>"
      ],
      "text/plain": [
       "            user_id\n",
       "Timestamp          \n",
       "2020-04-24        3\n",
       "2020-04-26        4\n",
       "2020-04-27        2\n",
       "2020-04-28        5\n",
       "2020-04-29      184\n",
       "...             ...\n",
       "2020-07-04      444\n",
       "2020-07-05      567\n",
       "2020-07-06      705\n",
       "2020-07-07      860\n",
       "2020-07-08      151\n",
       "\n",
       "[75 rows x 1 columns]"
      ]
     },
     "execution_count": 18,
     "metadata": {},
     "output_type": "execute_result"
    }
   ],
   "source": [
    "df_1"
   ]
  },
  {
   "cell_type": "code",
   "execution_count": 19,
   "id": "c33ac312",
   "metadata": {},
   "outputs": [
    {
     "data": {
      "text/plain": [
       "Text(0, 0.5, 'Users')"
      ]
     },
     "execution_count": 19,
     "metadata": {},
     "output_type": "execute_result"
    },
    {
     "data": {
      "image/png": "[encoded data removed]",
      "text/plain": [
       "<Figure size 1000x500 with 1 Axes>"
      ]
     },
     "metadata": {},
     "output_type": "display_data"
    }
   ],
   "source": [
    "plt.figure(figsize=(10,5))\n",
    "plt.plot(df_1.index, df_1['user_id'],  marker = 'o', markersize = 4)\n",
    "plt.title('DAU', fontweight=\"bold\", fontsize=15)\n",
    "plt.xlabel('Period', fontweight=\"bold\", fontsize=14)\n",
    "plt.ylabel('Users',fontweight=\"bold\", fontsize = 14)"
   ]
  },
  {
   "cell_type": "code",
   "execution_count": 21,
   "id": "1c8de5c3",
   "metadata": {},
   "outputs": [
    {
     "data": {
      "text/plain": [
       "user_id          float64\n",
       "Timestamp         object\n",
       "order_id           int64\n",
       "category_code     object\n",
       "brand             object\n",
       "price            float64\n",
       "dtype: object"
      ]
     },
     "execution_count": 21,
     "metadata": {},
     "output_type": "execute_result"
    }
   ],
   "source": [
    "df.dtypes"
   ]
  },
  {
   "cell_type": "code",
   "execution_count": 22,
   "id": "83449f0e",
   "metadata": {},
   "outputs": [
    {
     "name": "stderr",
     "output_type": "stream",
     "text": [
      "C:\\Users\\Anna\\AppData\\Local\\Temp\\ipykernel_11796\\2489362554.py:1: SettingWithCopyWarning: \n",
      "A value is trying to be set on a copy of a slice from a DataFrame.\n",
      "Try using .loc[row_indexer,col_indexer] = value instead\n",
      "\n",
      "See the caveats in the documentation: https://pandas.pydata.org/pandas-docs/stable/user_guide/indexing.html#returning-a-view-versus-a-copy\n",
      "  df['Timestamp'] = pd.to_datetime(df.Timestamp)\n"
     ]
    }
   ],
   "source": [
    "df['Timestamp'] = pd.to_datetime(df.Timestamp)"
   ]
  },
  {
   "cell_type": "code",
   "execution_count": 24,
   "id": "47a706d9",
   "metadata": {},
   "outputs": [
    {
     "data": {
      "text/plain": [
       "user_id                 float64\n",
       "Timestamp        datetime64[ns]\n",
       "order_id                  int64\n",
       "category_code            object\n",
       "brand                    object\n",
       "price                   float64\n",
       "week                      int64\n",
       "dtype: object"
      ]
     },
     "execution_count": 24,
     "metadata": {},
     "output_type": "execute_result"
    }
   ],
   "source": [
    "df.dtypes"
   ]
  },
  {
   "cell_type": "code",
   "execution_count": 25,
   "id": "91836cc8",
   "metadata": {},
   "outputs": [
    {
     "name": "stderr",
     "output_type": "stream",
     "text": [
      "C:\\Users\\Anna\\AppData\\Local\\Temp\\ipykernel_11796\\1377466567.py:1: SettingWithCopyWarning: \n",
      "A value is trying to be set on a copy of a slice from a DataFrame.\n",
      "Try using .loc[row_indexer,col_indexer] = value instead\n",
      "\n",
      "See the caveats in the documentation: https://pandas.pydata.org/pandas-docs/stable/user_guide/indexing.html#returning-a-view-versus-a-copy\n",
      "  df['week'] = df.Timestamp.apply(lambda x: x.week)\n"
     ]
    }
   ],
   "source": [
    "df['week'] = df.Timestamp.apply(lambda x: x.week)"
   ]
  },
  {
   "cell_type": "code",
   "execution_count": 26,
   "id": "0002e502",
   "metadata": {},
   "outputs": [
    {
     "data": {
      "text/plain": [
       "user_id                 float64\n",
       "Timestamp        datetime64[ns]\n",
       "order_id                  int64\n",
       "category_code            object\n",
       "brand                    object\n",
       "price                   float64\n",
       "week                      int64\n",
       "dtype: object"
      ]
     },
     "execution_count": 26,
     "metadata": {},
     "output_type": "execute_result"
    }
   ],
   "source": [
    "df.dtypes"
   ]
  },
  {
   "cell_type": "code",
   "execution_count": 27,
   "id": "1825eddf",
   "metadata": {},
   "outputs": [
    {
     "data": {
      "text/html": [
       "<div>\n",
       "<style scoped>\n",
       "    .dataframe tbody tr th:only-of-type {\n",
       "        vertical-align: middle;\n",
       "    }\n",
       "\n",
       "    .dataframe tbody tr th {\n",
       "        vertical-align: top;\n",
       "    }\n",
       "\n",
       "    .dataframe thead th {\n",
       "        text-align: right;\n",
       "    }\n",
       "</style>\n",
       "<table border=\"1\" class=\"dataframe\">\n",
       "  <thead>\n",
       "    <tr style=\"text-align: right;\">\n",
       "      <th></th>\n",
       "      <th>user_id</th>\n",
       "      <th>Timestamp</th>\n",
       "      <th>order_id</th>\n",
       "      <th>category_code</th>\n",
       "      <th>brand</th>\n",
       "      <th>price</th>\n",
       "      <th>week</th>\n",
       "    </tr>\n",
       "  </thead>\n",
       "  <tbody>\n",
       "    <tr>\n",
       "      <th>0</th>\n",
       "      <td>1.515916e+18</td>\n",
       "      <td>2020-04-24</td>\n",
       "      <td>2294359932054536986</td>\n",
       "      <td>electronics.tablet</td>\n",
       "      <td>samsung</td>\n",
       "      <td>162.01</td>\n",
       "      <td>17</td>\n",
       "    </tr>\n",
       "    <tr>\n",
       "      <th>1</th>\n",
       "      <td>1.515916e+18</td>\n",
       "      <td>2020-04-24</td>\n",
       "      <td>2294359932054536986</td>\n",
       "      <td>electronics.tablet</td>\n",
       "      <td>samsung</td>\n",
       "      <td>162.01</td>\n",
       "      <td>17</td>\n",
       "    </tr>\n",
       "    <tr>\n",
       "      <th>2</th>\n",
       "      <td>1.515916e+18</td>\n",
       "      <td>2020-04-24</td>\n",
       "      <td>2294444024058086220</td>\n",
       "      <td>electronics.audio.headphone</td>\n",
       "      <td>huawei</td>\n",
       "      <td>77.52</td>\n",
       "      <td>17</td>\n",
       "    </tr>\n",
       "    <tr>\n",
       "      <th>3</th>\n",
       "      <td>1.515916e+18</td>\n",
       "      <td>2020-04-24</td>\n",
       "      <td>2294444024058086220</td>\n",
       "      <td>electronics.audio.headphone</td>\n",
       "      <td>huawei</td>\n",
       "      <td>77.52</td>\n",
       "      <td>17</td>\n",
       "    </tr>\n",
       "    <tr>\n",
       "      <th>4</th>\n",
       "      <td>1.515916e+18</td>\n",
       "      <td>2020-04-24</td>\n",
       "      <td>2294584263154074236</td>\n",
       "      <td>NaN</td>\n",
       "      <td>karcher</td>\n",
       "      <td>217.57</td>\n",
       "      <td>17</td>\n",
       "    </tr>\n",
       "  </tbody>\n",
       "</table>\n",
       "</div>"
      ],
      "text/plain": [
       "        user_id  Timestamp             order_id                category_code  \\\n",
       "0  1.515916e+18 2020-04-24  2294359932054536986           electronics.tablet   \n",
       "1  1.515916e+18 2020-04-24  2294359932054536986           electronics.tablet   \n",
       "2  1.515916e+18 2020-04-24  2294444024058086220  electronics.audio.headphone   \n",
       "3  1.515916e+18 2020-04-24  2294444024058086220  electronics.audio.headphone   \n",
       "4  1.515916e+18 2020-04-24  2294584263154074236                          NaN   \n",
       "\n",
       "     brand   price  week  \n",
       "0  samsung  162.01    17  \n",
       "1  samsung  162.01    17  \n",
       "2   huawei   77.52    17  \n",
       "3   huawei   77.52    17  \n",
       "4  karcher  217.57    17  "
      ]
     },
     "execution_count": 27,
     "metadata": {},
     "output_type": "execute_result"
    }
   ],
   "source": [
    "df.head()"
   ]
  },
  {
   "cell_type": "code",
   "execution_count": 28,
   "id": "532a89bd",
   "metadata": {},
   "outputs": [
    {
     "name": "stderr",
     "output_type": "stream",
     "text": [
      "C:\\Users\\Anna\\AppData\\Local\\Temp\\ipykernel_11796\\3645036251.py:1: SettingWithCopyWarning: \n",
      "A value is trying to be set on a copy of a slice from a DataFrame.\n",
      "Try using .loc[row_indexer,col_indexer] = value instead\n",
      "\n",
      "See the caveats in the documentation: https://pandas.pydata.org/pandas-docs/stable/user_guide/indexing.html#returning-a-view-versus-a-copy\n",
      "  df['month'] = df.Timestamp.apply(lambda x: x.month)\n"
     ]
    }
   ],
   "source": [
    "df['month'] = df.Timestamp.apply(lambda x: x.month)"
   ]
  },
  {
   "cell_type": "code",
   "execution_count": 29,
   "id": "675bacfb",
   "metadata": {},
   "outputs": [],
   "source": [
    "df_2 = df.groupby('week'). agg({'user_id' : 'nunique'})"
   ]
  },
  {
   "cell_type": "code",
   "execution_count": 30,
   "id": "38ee405a",
   "metadata": {},
   "outputs": [
    {
     "data": {
      "text/html": [
       "<div>\n",
       "<style scoped>\n",
       "    .dataframe tbody tr th:only-of-type {\n",
       "        vertical-align: middle;\n",
       "    }\n",
       "\n",
       "    .dataframe tbody tr th {\n",
       "        vertical-align: top;\n",
       "    }\n",
       "\n",
       "    .dataframe thead th {\n",
       "        text-align: right;\n",
       "    }\n",
       "</style>\n",
       "<table border=\"1\" class=\"dataframe\">\n",
       "  <thead>\n",
       "    <tr style=\"text-align: right;\">\n",
       "      <th></th>\n",
       "      <th>user_id</th>\n",
       "    </tr>\n",
       "    <tr>\n",
       "      <th>week</th>\n",
       "      <th></th>\n",
       "    </tr>\n",
       "  </thead>\n",
       "  <tbody>\n",
       "    <tr>\n",
       "      <th>17</th>\n",
       "      <td>7</td>\n",
       "    </tr>\n",
       "    <tr>\n",
       "      <th>18</th>\n",
       "      <td>1718</td>\n",
       "    </tr>\n",
       "    <tr>\n",
       "      <th>19</th>\n",
       "      <td>2878</td>\n",
       "    </tr>\n",
       "    <tr>\n",
       "      <th>20</th>\n",
       "      <td>2761</td>\n",
       "    </tr>\n",
       "    <tr>\n",
       "      <th>21</th>\n",
       "      <td>3149</td>\n",
       "    </tr>\n",
       "    <tr>\n",
       "      <th>22</th>\n",
       "      <td>2138</td>\n",
       "    </tr>\n",
       "    <tr>\n",
       "      <th>23</th>\n",
       "      <td>1616</td>\n",
       "    </tr>\n",
       "    <tr>\n",
       "      <th>24</th>\n",
       "      <td>1703</td>\n",
       "    </tr>\n",
       "    <tr>\n",
       "      <th>25</th>\n",
       "      <td>1765</td>\n",
       "    </tr>\n",
       "    <tr>\n",
       "      <th>26</th>\n",
       "      <td>1773</td>\n",
       "    </tr>\n",
       "    <tr>\n",
       "      <th>27</th>\n",
       "      <td>2545</td>\n",
       "    </tr>\n",
       "    <tr>\n",
       "      <th>28</th>\n",
       "      <td>1664</td>\n",
       "    </tr>\n",
       "  </tbody>\n",
       "</table>\n",
       "</div>"
      ],
      "text/plain": [
       "      user_id\n",
       "week         \n",
       "17          7\n",
       "18       1718\n",
       "19       2878\n",
       "20       2761\n",
       "21       3149\n",
       "22       2138\n",
       "23       1616\n",
       "24       1703\n",
       "25       1765\n",
       "26       1773\n",
       "27       2545\n",
       "28       1664"
      ]
     },
     "execution_count": 30,
     "metadata": {},
     "output_type": "execute_result"
    }
   ],
   "source": [
    "df_2"
   ]
  },
  {
   "cell_type": "code",
   "execution_count": 31,
   "id": "32360802",
   "metadata": {},
   "outputs": [
    {
     "data": {
      "text/plain": [
       "Text(0, 0.5, 'Users')"
      ]
     },
     "execution_count": 31,
     "metadata": {},
     "output_type": "execute_result"
    },
    {
     "data": {
      "image/png": "[encoded data removed]",
      "text/plain": [
       "<Figure size 1000x500 with 1 Axes>"
      ]
     },
     "metadata": {},
     "output_type": "display_data"
    }
   ],
   "source": [
    "plt.figure(figsize=(10,5))\n",
    "plt.plot(df_2.index, df_2['user_id'],  marker = 'o', markersize = 4)\n",
    "plt.title('WAU', fontweight=\"bold\", fontsize=15)\n",
    "plt.xlabel('Period', fontweight=\"bold\", fontsize=14)\n",
    "plt.ylabel('Users',fontweight=\"bold\", fontsize = 14)"
   ]
  },
  {
   "cell_type": "code",
   "execution_count": 34,
   "id": "41babe4e",
   "metadata": {},
   "outputs": [
    {
     "data": {
      "text/html": [
       "<div>\n",
       "<style scoped>\n",
       "    .dataframe tbody tr th:only-of-type {\n",
       "        vertical-align: middle;\n",
       "    }\n",
       "\n",
       "    .dataframe tbody tr th {\n",
       "        vertical-align: top;\n",
       "    }\n",
       "\n",
       "    .dataframe thead th {\n",
       "        text-align: right;\n",
       "    }\n",
       "</style>\n",
       "<table border=\"1\" class=\"dataframe\">\n",
       "  <thead>\n",
       "    <tr style=\"text-align: right;\">\n",
       "      <th></th>\n",
       "      <th>user_id</th>\n",
       "    </tr>\n",
       "    <tr>\n",
       "      <th>month</th>\n",
       "      <th></th>\n",
       "    </tr>\n",
       "  </thead>\n",
       "  <tbody>\n",
       "    <tr>\n",
       "      <th>4</th>\n",
       "      <td>623</td>\n",
       "    </tr>\n",
       "    <tr>\n",
       "      <th>5</th>\n",
       "      <td>10962</td>\n",
       "    </tr>\n",
       "    <tr>\n",
       "      <th>6</th>\n",
       "      <td>6960</td>\n",
       "    </tr>\n",
       "    <tr>\n",
       "      <th>7</th>\n",
       "      <td>3455</td>\n",
       "    </tr>\n",
       "  </tbody>\n",
       "</table>\n",
       "</div>"
      ],
      "text/plain": [
       "       user_id\n",
       "month         \n",
       "4          623\n",
       "5        10962\n",
       "6         6960\n",
       "7         3455"
      ]
     },
     "execution_count": 34,
     "metadata": {},
     "output_type": "execute_result"
    }
   ],
   "source": [
    "df_3 = df.groupby('month'). agg({'user_id' : 'nunique'})\n",
    "df_3"
   ]
  },
  {
   "cell_type": "code",
   "execution_count": 33,
   "id": "a888e9ea",
   "metadata": {},
   "outputs": [
    {
     "data": {
      "text/plain": [
       "Text(0, 0.5, 'Users')"
      ]
     },
     "execution_count": 33,
     "metadata": {},
     "output_type": "execute_result"
    },
    {
     "data": {
      "image/png": "[encoded data removed]",
      "text/plain": [
       "<Figure size 1000x500 with 1 Axes>"
      ]
     },
     "metadata": {},
     "output_type": "display_data"
    }
   ],
   "source": [
    "plt.figure(figsize=(10,5))\n",
    "plt.plot(df_3.index, df_3['user_id'],  marker = 'o', markersize = 4)\n",
    "plt.title('MAU', fontweight=\"bold\", fontsize=15)\n",
    "plt.xlabel('Period', fontweight=\"bold\", fontsize=14)\n",
    "plt.ylabel('Users',fontweight=\"bold\", fontsize = 14)"
   ]
  },
  {
   "cell_type": "code",
   "execution_count": 35,
   "id": "da712e90",
   "metadata": {},
   "outputs": [
    {
     "data": {
      "text/html": [
       "<div>\n",
       "<style scoped>\n",
       "    .dataframe tbody tr th:only-of-type {\n",
       "        vertical-align: middle;\n",
       "    }\n",
       "\n",
       "    .dataframe tbody tr th {\n",
       "        vertical-align: top;\n",
       "    }\n",
       "\n",
       "    .dataframe thead th {\n",
       "        text-align: right;\n",
       "    }\n",
       "</style>\n",
       "<table border=\"1\" class=\"dataframe\">\n",
       "  <thead>\n",
       "    <tr style=\"text-align: right;\">\n",
       "      <th></th>\n",
       "      <th>price</th>\n",
       "      <th>user_id</th>\n",
       "    </tr>\n",
       "    <tr>\n",
       "      <th>Timestamp</th>\n",
       "      <th></th>\n",
       "      <th></th>\n",
       "    </tr>\n",
       "  </thead>\n",
       "  <tbody>\n",
       "    <tr>\n",
       "      <th>2020-04-24</th>\n",
       "      <td>696.63</td>\n",
       "      <td>3</td>\n",
       "    </tr>\n",
       "    <tr>\n",
       "      <th>2020-04-26</th>\n",
       "      <td>6080.38</td>\n",
       "      <td>4</td>\n",
       "    </tr>\n",
       "    <tr>\n",
       "      <th>2020-04-27</th>\n",
       "      <td>690.87</td>\n",
       "      <td>2</td>\n",
       "    </tr>\n",
       "    <tr>\n",
       "      <th>2020-04-28</th>\n",
       "      <td>1548.46</td>\n",
       "      <td>5</td>\n",
       "    </tr>\n",
       "    <tr>\n",
       "      <th>2020-04-29</th>\n",
       "      <td>26882.14</td>\n",
       "      <td>184</td>\n",
       "    </tr>\n",
       "    <tr>\n",
       "      <th>...</th>\n",
       "      <td>...</td>\n",
       "      <td>...</td>\n",
       "    </tr>\n",
       "    <tr>\n",
       "      <th>2020-07-04</th>\n",
       "      <td>156789.00</td>\n",
       "      <td>444</td>\n",
       "    </tr>\n",
       "    <tr>\n",
       "      <th>2020-07-05</th>\n",
       "      <td>107471.50</td>\n",
       "      <td>567</td>\n",
       "    </tr>\n",
       "    <tr>\n",
       "      <th>2020-07-06</th>\n",
       "      <td>156373.66</td>\n",
       "      <td>705</td>\n",
       "    </tr>\n",
       "    <tr>\n",
       "      <th>2020-07-07</th>\n",
       "      <td>209263.56</td>\n",
       "      <td>860</td>\n",
       "    </tr>\n",
       "    <tr>\n",
       "      <th>2020-07-08</th>\n",
       "      <td>26558.89</td>\n",
       "      <td>151</td>\n",
       "    </tr>\n",
       "  </tbody>\n",
       "</table>\n",
       "<p>75 rows × 2 columns</p>\n",
       "</div>"
      ],
      "text/plain": [
       "                price  user_id\n",
       "Timestamp                     \n",
       "2020-04-24     696.63        3\n",
       "2020-04-26    6080.38        4\n",
       "2020-04-27     690.87        2\n",
       "2020-04-28    1548.46        5\n",
       "2020-04-29   26882.14      184\n",
       "...               ...      ...\n",
       "2020-07-04  156789.00      444\n",
       "2020-07-05  107471.50      567\n",
       "2020-07-06  156373.66      705\n",
       "2020-07-07  209263.56      860\n",
       "2020-07-08   26558.89      151\n",
       "\n",
       "[75 rows x 2 columns]"
      ]
     },
     "execution_count": 35,
     "metadata": {},
     "output_type": "execute_result"
    }
   ],
   "source": [
    "arpu_d = df.groupby('Timestamp'). agg({'price' : 'sum', 'user_id': 'nunique'})\n",
    "arpu_d "
   ]
  },
  {
   "cell_type": "code",
   "execution_count": 36,
   "id": "09921f89",
   "metadata": {},
   "outputs": [],
   "source": [
    "arpu_d['arpu_d'] = arpu_d['price'] / arpu_d['user_id']"
   ]
  },
  {
   "cell_type": "code",
   "execution_count": 37,
   "id": "c8e6eff7",
   "metadata": {},
   "outputs": [
    {
     "data": {
      "text/html": [
       "<div>\n",
       "<style scoped>\n",
       "    .dataframe tbody tr th:only-of-type {\n",
       "        vertical-align: middle;\n",
       "    }\n",
       "\n",
       "    .dataframe tbody tr th {\n",
       "        vertical-align: top;\n",
       "    }\n",
       "\n",
       "    .dataframe thead th {\n",
       "        text-align: right;\n",
       "    }\n",
       "</style>\n",
       "<table border=\"1\" class=\"dataframe\">\n",
       "  <thead>\n",
       "    <tr style=\"text-align: right;\">\n",
       "      <th></th>\n",
       "      <th>price</th>\n",
       "      <th>user_id</th>\n",
       "      <th>arpu_d</th>\n",
       "    </tr>\n",
       "    <tr>\n",
       "      <th>Timestamp</th>\n",
       "      <th></th>\n",
       "      <th></th>\n",
       "      <th></th>\n",
       "    </tr>\n",
       "  </thead>\n",
       "  <tbody>\n",
       "    <tr>\n",
       "      <th>2020-04-24</th>\n",
       "      <td>696.63</td>\n",
       "      <td>3</td>\n",
       "      <td>232.210000</td>\n",
       "    </tr>\n",
       "    <tr>\n",
       "      <th>2020-04-26</th>\n",
       "      <td>6080.38</td>\n",
       "      <td>4</td>\n",
       "      <td>1520.095000</td>\n",
       "    </tr>\n",
       "    <tr>\n",
       "      <th>2020-04-27</th>\n",
       "      <td>690.87</td>\n",
       "      <td>2</td>\n",
       "      <td>345.435000</td>\n",
       "    </tr>\n",
       "    <tr>\n",
       "      <th>2020-04-28</th>\n",
       "      <td>1548.46</td>\n",
       "      <td>5</td>\n",
       "      <td>309.692000</td>\n",
       "    </tr>\n",
       "    <tr>\n",
       "      <th>2020-04-29</th>\n",
       "      <td>26882.14</td>\n",
       "      <td>184</td>\n",
       "      <td>146.098587</td>\n",
       "    </tr>\n",
       "    <tr>\n",
       "      <th>...</th>\n",
       "      <td>...</td>\n",
       "      <td>...</td>\n",
       "      <td>...</td>\n",
       "    </tr>\n",
       "    <tr>\n",
       "      <th>2020-07-04</th>\n",
       "      <td>156789.00</td>\n",
       "      <td>444</td>\n",
       "      <td>353.128378</td>\n",
       "    </tr>\n",
       "    <tr>\n",
       "      <th>2020-07-05</th>\n",
       "      <td>107471.50</td>\n",
       "      <td>567</td>\n",
       "      <td>189.544092</td>\n",
       "    </tr>\n",
       "    <tr>\n",
       "      <th>2020-07-06</th>\n",
       "      <td>156373.66</td>\n",
       "      <td>705</td>\n",
       "      <td>221.806610</td>\n",
       "    </tr>\n",
       "    <tr>\n",
       "      <th>2020-07-07</th>\n",
       "      <td>209263.56</td>\n",
       "      <td>860</td>\n",
       "      <td>243.329721</td>\n",
       "    </tr>\n",
       "    <tr>\n",
       "      <th>2020-07-08</th>\n",
       "      <td>26558.89</td>\n",
       "      <td>151</td>\n",
       "      <td>175.886689</td>\n",
       "    </tr>\n",
       "  </tbody>\n",
       "</table>\n",
       "<p>75 rows × 3 columns</p>\n",
       "</div>"
      ],
      "text/plain": [
       "                price  user_id       arpu_d\n",
       "Timestamp                                  \n",
       "2020-04-24     696.63        3   232.210000\n",
       "2020-04-26    6080.38        4  1520.095000\n",
       "2020-04-27     690.87        2   345.435000\n",
       "2020-04-28    1548.46        5   309.692000\n",
       "2020-04-29   26882.14      184   146.098587\n",
       "...               ...      ...          ...\n",
       "2020-07-04  156789.00      444   353.128378\n",
       "2020-07-05  107471.50      567   189.544092\n",
       "2020-07-06  156373.66      705   221.806610\n",
       "2020-07-07  209263.56      860   243.329721\n",
       "2020-07-08   26558.89      151   175.886689\n",
       "\n",
       "[75 rows x 3 columns]"
      ]
     },
     "execution_count": 37,
     "metadata": {},
     "output_type": "execute_result"
    }
   ],
   "source": [
    "arpu_d"
   ]
  },
  {
   "cell_type": "code",
   "execution_count": 38,
   "id": "9a6f8615",
   "metadata": {},
   "outputs": [
    {
     "data": {
      "text/plain": [
       "Text(0, 0.5, '$')"
      ]
     },
     "execution_count": 38,
     "metadata": {},
     "output_type": "execute_result"
    },
    {
     "data": {
      "image/png": "[encoded data removed]",
      "text/plain": [
       "<Figure size 1000x500 with 1 Axes>"
      ]
     },
     "metadata": {},
     "output_type": "display_data"
    }
   ],
   "source": [
    "plt.figure(figsize=(10,5))\n",
    "plt.plot(arpu_d.index, arpu_d['arpu_d'],  marker = 'o', markersize = 4)\n",
    "plt.title('ARPU', fontweight=\"bold\", fontsize=15)\n",
    "plt.xlabel('Period', fontweight=\"bold\", fontsize=14)\n",
    "plt.ylabel('$',fontweight=\"bold\", fontsize = 14)"
   ]
  },
  {
   "cell_type": "code",
   "execution_count": null,
   "id": "b90f26b3",
   "metadata": {},
   "outputs": [],
   "source": []
  }
 ],
 "metadata": {
  "kernelspec": {
   "display_name": "Python 3 (ipykernel)",
   "language": "python",
   "name": "python3"
  },
  "language_info": {
   "codemirror_mode": {
    "name": "ipython",
    "version": 3
   },
   "file_extension": ".py",
   "mimetype": "text/x-python",
   "name": "python",
   "nbconvert_exporter": "python",
   "pygments_lexer": "ipython3",
   "version": "3.9.12"
  }
 },
 "nbformat": 4,
 "nbformat_minor": 5
}
